{
 "cells": [
  {
   "attachments": {},
   "cell_type": "markdown",
   "metadata": {},
   "source": [
    "### How to use:\n",
    "- Query and store their historical data for 2019 in New York \n",
    "- How to query:\n",
    "- API has max 1,000 calls per day and max of 60 calls per minute\n",
    "- To store:\n",
    "- Process similar to last project and store in a POSTGRESQL DB\n"
   ]
  },
  {
   "cell_type": "code",
   "execution_count": null,
   "metadata": {},
   "outputs": [],
   "source": []
  }
 ],
 "metadata": {
  "language_info": {
   "name": "python"
  },
  "orig_nbformat": 4
 },
 "nbformat": 4,
 "nbformat_minor": 2
}
