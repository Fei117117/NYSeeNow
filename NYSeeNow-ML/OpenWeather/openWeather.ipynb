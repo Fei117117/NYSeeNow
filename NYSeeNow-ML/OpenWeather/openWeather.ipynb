{
 "cells": [
  {
   "attachments": {},
   "cell_type": "markdown",
   "metadata": {},
   "source": [
    "### How to use:\n",
    "- Query and store their historical data for 2019 in New York \n",
    "- How to query:\n",
    "- API has max 1,000 calls per day and max of 60 calls per minute\n",
    "- To store:\n",
    "- Process similar to last project and store in a POSTGRESQL DB\n",
    "- There are 8765.999 hours in a year\n",
    "- Therefore will take 16 minutes to make 960 calls in one day\n",
    "- It will take 9 days of this get the weather data for every hour in 2019\n",
    "- Ensure I dont go over the limits\n",
    "\n",
    "- Create Data Dictionary\n"
   ]
  },
  {
   "cell_type": "code",
   "execution_count": null,
   "metadata": {},
   "outputs": [],
   "source": [
    "            # Extract the information for the current weather and append to a weather data file\n",
    "lat=data['lat']\n",
    "lon=data['lon']\n",
    "time_stamp=data['data']['dt']\n",
    "temp=data['data']['temp']-273.15#store in celsius\n",
    "weather_id=data['data']['weather']['id']\n",
    "weather_main=data['data']['weather']['main']\n",
    "weather_description=data['data']['weather']['description']\n",
    "weather_icon=data['data']['weather']['icon']\n",
    "rain_1h=data['data']['rain']['1h']\n",
    "snow_1h=data['data']['snow']['1h']"
   ]
  }
 ],
 "metadata": {
  "language_info": {
   "name": "python"
  },
  "orig_nbformat": 4
 },
 "nbformat": 4,
 "nbformat_minor": 2
}
