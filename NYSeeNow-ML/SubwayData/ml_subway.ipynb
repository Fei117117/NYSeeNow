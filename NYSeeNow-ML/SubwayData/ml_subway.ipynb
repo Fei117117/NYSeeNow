{
 "cells": [
  {
   "attachments": {},
   "cell_type": "markdown",
   "metadata": {},
   "source": [
    "#if remote_unit_id and timestamp are the same, then find the total sum of entries and exits\n",
    "\n",
    "### Creating busyness percentage for each station\n",
    "- For each remote unit id, get a sum of the abs value of the difference in entries and exits\n",
    "- The busyness of a place is how many people are currently there, so exits-entries along with the magnitude in the sum of both values, can do both\n",
    "- Sum of entries and exits for each remote unit id at that time\n",
    "- Exits - entries for each remote unit id at that time\n",
    "- Normalize each of these values?"
   ]
  },
  {
   "cell_type": "code",
   "execution_count": null,
   "metadata": {},
   "outputs": [],
   "source": []
  },
  {
   "cell_type": "code",
   "execution_count": null,
   "metadata": {},
   "outputs": [],
   "source": []
  },
  {
   "cell_type": "code",
   "execution_count": null,
   "metadata": {},
   "outputs": [],
   "source": []
  },
  {
   "attachments": {},
   "cell_type": "markdown",
   "metadata": {},
   "source": []
  },
  {
   "cell_type": "code",
   "execution_count": null,
   "metadata": {},
   "outputs": [],
   "source": [
    "'''df_turn['day'] = pd.to_datetime(df_turn['time_stamp'], unit='s').dt.day_name()\n",
    "df_turn['date'] = pd.to_datetime(df_turn['time_stamp'], unit='s').dt.date\n",
    "df_turn['time'] = pd.to_datetime(df_turn['time_stamp'], unit='s').dt.time'''"
   ]
  }
 ],
 "metadata": {
  "language_info": {
   "name": "python"
  },
  "orig_nbformat": 4
 },
 "nbformat": 4,
 "nbformat_minor": 2
}
