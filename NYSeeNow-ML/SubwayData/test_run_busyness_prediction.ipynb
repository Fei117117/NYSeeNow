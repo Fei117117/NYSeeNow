{
 "cells": [
  {
   "cell_type": "markdown",
   "metadata": {},
   "source": [
    "## This notebook will test how to get a result from the trained models"
   ]
  },
  {
   "cell_type": "markdown",
   "metadata": {},
   "source": [
    "### Description of the models:\n",
    "- I have made two busyness prediciton models that only need the remote unit id, which can be easily mapped from the lookup table\n",
    "- Choose surrounding area, or station busyness prediction by selecting the correct folder\n",
    "- Select the Remote Unit id using the cleaned_station_data.csv file\n",
    "- The model also requires the following to get the prediciton:\n",
    "- hour as an int with 0 being midnight, 1 being 1AM etc\n",
    "- day as an int with 1 being Monday etc\n",
    "- month as int with 1 being January etc\n",
    "- temperature as float in Celsius\n",
    "- rain_fall as float in mm per hour\n",
    "- snow_fall as float in mm per hour\n",
    "- Clear as a int, 1 or  0\n",
    "- Clouds as a int, 1 or  0\n",
    "- Same for Drizzle, Fog, Haze, Mist, Rain, Smoke, Snow and Thunderstorm"
   ]
  },
  {
   "cell_type": "code",
   "execution_count": 10,
   "metadata": {},
   "outputs": [],
   "source": [
    "import pickle\n",
    "import numpy as np"
   ]
  },
  {
   "cell_type": "code",
   "execution_count": 11,
   "metadata": {},
   "outputs": [],
   "source": [
    "#Will need to call either future/current weather forecasts for these weather values, or else just fill them in if they have little effect on target\n",
    "''' hour day month temperature rain_fall snow_fall Clear Clouds Drizzle Fog Haze Mist Rain Smoke Snow Thunderstorm '''\n",
    "X_test=[[16 ,1, 5, 15.3, 2.6, 0.0, 0, 0, 0, 0, 0, 0, 1, 0, 0, 0]]"
   ]
  },
  {
   "cell_type": "code",
   "execution_count": 21,
   "metadata": {},
   "outputs": [],
   "source": [
    "#Load the model for that station\n",
    "#model_start_station = os.path.join(app.static_folder, 'models', f'model_{station_number}.pkl')\n",
    "station_number=10\n",
    "type='station' #area or station\n",
    "\n",
    "if type=='area':\n",
    "    path=f'{type}_busy/a_busy_model_{station_number}.pkl'\n",
    "elif type=='station':\n",
    "    path=f'{type}_busy/s_busy_model_{station_number}.pkl'\n",
    "else:\n",
    "    print('error')\n",
    "\n",
    "with open(path, 'rb') as handle:\n",
    "    model = pickle.load(handle)\n",
    "\n",
    "#Get the prediction\n",
    "prediction = model.predict(X_test)"
   ]
  },
  {
   "cell_type": "code",
   "execution_count": 22,
   "metadata": {},
   "outputs": [],
   "source": [
    "#Return the prediction\n",
    "#converrt it to a string\n",
    "prediction = np.array2string(prediction)\n",
    "\n",
    "#remove the square brackets\n",
    "prediction = prediction.replace('[', '')\n",
    "prediction = prediction.replace(']', '')\n",
    "busyness_predicition = int(prediction)"
   ]
  },
  {
   "cell_type": "code",
   "execution_count": 23,
   "metadata": {},
   "outputs": [
    {
     "data": {
      "text/plain": [
       "49"
      ]
     },
     "execution_count": 23,
     "metadata": {},
     "output_type": "execute_result"
    }
   ],
   "source": [
    "busyness_predicition"
   ]
  },
  {
   "cell_type": "code",
   "execution_count": null,
   "metadata": {},
   "outputs": [],
   "source": []
  }
 ],
 "metadata": {
  "kernelspec": {
   "display_name": "comp47530py38",
   "language": "python",
   "name": "python3"
  },
  "language_info": {
   "codemirror_mode": {
    "name": "ipython",
    "version": 3
   },
   "file_extension": ".py",
   "mimetype": "text/x-python",
   "name": "python",
   "nbconvert_exporter": "python",
   "pygments_lexer": "ipython3",
   "version": "3.8.16"
  },
  "orig_nbformat": 4
 },
 "nbformat": 4,
 "nbformat_minor": 2
}
